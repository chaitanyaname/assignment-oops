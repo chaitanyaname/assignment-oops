{
 "cells": [
  {
   "cell_type": "markdown",
   "metadata": {},
   "source": [
    "Q1. Explain Class and Object with respect to Object-Oriented Programming. Give a suitable example."
   ]
  },
  {
   "cell_type": "code",
   "execution_count": 34,
   "metadata": {},
   "outputs": [
    {
     "name": "stdout",
     "output_type": "stream",
     "text": [
      "Buddy\n",
      "Buddy says Woof!\n",
      "Max is playing fetch!\n"
     ]
    }
   ],
   "source": [
    "class Dog:\n",
    "  \"\"\"\n",
    "  A class representing a dog.\n",
    "  \"\"\"\n",
    "\n",
    "  def __init__(self, name, breed, age):\n",
    "    self.name = name\n",
    "    self.breed = breed\n",
    "    self.age = age\n",
    "\n",
    "  def bark(self):\n",
    "    \"\"\"Simulates a dog barking.\"\"\"\n",
    "    print(f\"{self.name} says Woof!\")\n",
    "\n",
    "  def play(self):\n",
    "    \"\"\"Simulates a dog playing.\"\"\"\n",
    "    print(f\"{self.name} is playing fetch!\")\n",
    "\n",
    "# Create Dog objects (instances)\n",
    "my_dog = Dog(\"Buddy\", \"Golden Retriever\", 3)\n",
    "neighbor_dog = Dog(\"Max\", \"Labrador Retriever\", 5)\n",
    "\n",
    "# Access attributes and call methods\n",
    "print(my_dog.name)  # Output: Buddy\n",
    "my_dog.bark()       # Output: Buddy says Woof!\n",
    "neighbor_dog.play()  # Output: Max is playing fetch!\n"
   ]
  },
  {
   "cell_type": "markdown",
   "metadata": {},
   "source": [
    "Q2. Name the four pillars of OOPs."
   ]
  },
  {
   "cell_type": "markdown",
   "metadata": {},
   "source": [
    "1 Encapsulation: Bundling data (attributes) and methods that operate on that data together within a class. This protects data integrity and promotes controlled access.\n",
    "2 Inheritance: Creating new classes (subclasses) that inherit properties and behaviors from existing classes (parent classes). This promotes code reusability and enables specialization.\n",
    "3 Polymorphism: The ability of objects of different classes to respond to the same method call in different ways. This allows for flexible and dynamic behavior.\n",
    "4 Abstraction: Focusing on essential details and hiding implementation complexity. This simplifies code interaction and promotes maintainability."
   ]
  },
  {
   "cell_type": "markdown",
   "metadata": {},
   "source": [
    "\n",
    "Q3. Explain why the __init__() function is used. Give a suitable example."
   ]
  },
  {
   "cell_type": "markdown",
   "metadata": {},
   "source": [
    "The __init__() function (also called the constructor) is a special method in Python classes that is automatically called when an object of the class is created.\n",
    "Its purpose is to initialize the object's attributes with starting values.\n",
    "Example (referring to the Dog class example above):\n",
    "\n",
    "The __init__() function takes arguments (self, name, breed, age) to set the initial values for the object's attributes (self.name, self.breed, self.age).\n",
    "\n"
   ]
  },
  {
   "cell_type": "markdown",
   "metadata": {},
   "source": [
    "Q4. Why self is used in OOPs?"
   ]
  },
  {
   "cell_type": "markdown",
   "metadata": {},
   "source": [
    "The self parameter is a reference to the current object instance within a class method.\n",
    "It's used to access the object's attributes and methods within the method definition.\n",
    "Example (referring to the Dog class example above):\n",
    "\n",
    "In the bark() and play() methods, self.name refers to the name attribute of the specific Dog object that the method is called on (e.g., my_dog.bark() or neighbor_dog.play())."
   ]
  },
  {
   "cell_type": "markdown",
   "metadata": {},
   "source": [
    "Q5. What is inheritance? Give an example for each type of inheritance."
   ]
  },
  {
   "cell_type": "code",
   "execution_count": 35,
   "metadata": {},
   "outputs": [],
   "source": [
    "class GoldenRetriever(Dog):\n",
    "  \"\"\"\n",
    "  A class representing a Golden Retriever dog (inherits from Dog).\n",
    "  \"\"\"\n",
    "  def __init__(self, name, age):\n",
    "    super().__init__(name, \"Golden Retriever\", age)  # Call parent's constructor\n",
    "\n",
    "  def fetch(self):\n",
    "    print(f\"{self.name} is fetching the ball!\")\n"
   ]
  }
 ],
 "metadata": {
  "kernelspec": {
   "display_name": "Python 3",
   "language": "python",
   "name": "python3"
  },
  "language_info": {
   "codemirror_mode": {
    "name": "ipython",
    "version": 3
   },
   "file_extension": ".py",
   "mimetype": "text/x-python",
   "name": "python",
   "nbconvert_exporter": "python",
   "pygments_lexer": "ipython3",
   "version": "3.12.2"
  }
 },
 "nbformat": 4,
 "nbformat_minor": 2
}
